{
 "cells": [
  {
   "cell_type": "code",
   "execution_count": 4,
   "id": "58e58dc4-d3a3-4a9a-b5e8-4d71bede5dd1",
   "metadata": {},
   "outputs": [
    {
     "data": {
      "application/vnd.plotly.v1+json": {
       "config": {
        "plotlyServerURL": "https://plot.ly"
       },
       "data": [
        {
         "marker": {
          "color": "LightSkyBlue",
          "size": 20
         },
         "mode": "markers+text",
         "text": [
          "Test Conditions"
         ],
         "textposition": "top center",
         "type": "scatter",
         "x": [
          0
         ],
         "y": [
          0
         ]
        },
        {
         "marker": {
          "color": "LightSkyBlue",
          "size": 20
         },
         "mode": "markers+text",
         "text": [
          "CTI Electrodes"
         ],
         "textposition": "top center",
         "type": "scatter",
         "x": [
          1
         ],
         "y": [
          0
         ]
        },
        {
         "marker": {
          "color": "LightSkyBlue",
          "size": 20
         },
         "mode": "markers+text",
         "text": [
          "└── Cleaned using 0.1M H2SO4 at a scan range from 0V-1.5V at 0.1V/s"
         ],
         "textposition": "top center",
         "type": "scatter",
         "x": [
          2
         ],
         "y": [
          0
         ]
        },
        {
         "marker": {
          "color": "LightSkyBlue",
          "size": 20
         },
         "mode": "markers+text",
         "text": [
          "└── PCB Electrodes"
         ],
         "textposition": "top center",
         "type": "scatter",
         "x": [
          3
         ],
         "y": [
          0
         ]
        },
        {
         "marker": {
          "color": "LightSkyBlue",
          "size": 20
         },
         "mode": "markers+text",
         "text": [
          "Cleaning Methods"
         ],
         "textposition": "top center",
         "type": "scatter",
         "x": [
          4
         ],
         "y": [
          0
         ]
        },
        {
         "marker": {
          "color": "LightSkyBlue",
          "size": 20
         },
         "mode": "markers+text",
         "text": [
          "Solvent Cleaned"
         ],
         "textposition": "top center",
         "type": "scatter",
         "x": [
          5
         ],
         "y": [
          0
         ]
        },
        {
         "marker": {
          "color": "LightSkyBlue",
          "size": 20
         },
         "mode": "markers+text",
         "text": [
          "└── H2O2:NH4OH:H2O at a 1:1:2 ratio for 30 mins, then 1:1 ratio for 30 mins"
         ],
         "textposition": "top center",
         "type": "scatter",
         "x": [
          6
         ],
         "y": [
          0
         ]
        },
        {
         "marker": {
          "color": "LightSkyBlue",
          "size": 20
         },
         "mode": "markers+text",
         "text": [
          "Mechanically Cleaned"
         ],
         "textposition": "top center",
         "type": "scatter",
         "x": [
          7
         ],
         "y": [
          0
         ]
        },
        {
         "marker": {
          "color": "LightSkyBlue",
          "size": 20
         },
         "mode": "markers+text",
         "text": [
          "└── Using alumina slurry for 5 mins"
         ],
         "textposition": "top center",
         "type": "scatter",
         "x": [
          8
         ],
         "y": [
          0
         ]
        },
        {
         "marker": {
          "color": "LightSkyBlue",
          "size": 20
         },
         "mode": "markers+text",
         "text": [
          "└── Mechanical + Solvent Cleaned"
         ],
         "textposition": "top center",
         "type": "scatter",
         "x": [
          9
         ],
         "y": [
          0
         ]
        },
        {
         "marker": {
          "color": "LightSkyBlue",
          "size": 20
         },
         "mode": "markers+text",
         "text": [
          "Slow Scans"
         ],
         "textposition": "top center",
         "type": "scatter",
         "x": [
          10
         ],
         "y": [
          0
         ]
        },
        {
         "marker": {
          "color": "LightSkyBlue",
          "size": 20
         },
         "mode": "markers+text",
         "text": [
          "0V-1.5V at 0.1M"
         ],
         "textposition": "top center",
         "type": "scatter",
         "x": [
          11
         ],
         "y": [
          0
         ]
        },
        {
         "marker": {
          "color": "LightSkyBlue",
          "size": 20
         },
         "mode": "markers+text",
         "text": [
          "└── 0V-1.5V at 0.5M"
         ],
         "textposition": "top center",
         "type": "scatter",
         "x": [
          12
         ],
         "y": [
          0
         ]
        },
        {
         "marker": {
          "color": "LightSkyBlue",
          "size": 20
         },
         "mode": "markers+text",
         "text": [
          "└── Fast Scans"
         ],
         "textposition": "top center",
         "type": "scatter",
         "x": [
          13
         ],
         "y": [
          0
         ]
        },
        {
         "marker": {
          "color": "LightSkyBlue",
          "size": 20
         },
         "mode": "markers+text",
         "text": [
          "0V-1.5V"
         ],
         "textposition": "top center",
         "type": "scatter",
         "x": [
          14
         ],
         "y": [
          0
         ]
        },
        {
         "marker": {
          "color": "LightSkyBlue",
          "size": 20
         },
         "mode": "markers+text",
         "text": [
          "0.1M"
         ],
         "textposition": "top center",
         "type": "scatter",
         "x": [
          21
         ],
         "y": [
          0
         ]
        },
        {
         "marker": {
          "color": "LightSkyBlue",
          "size": 20
         },
         "mode": "markers+text",
         "text": [
          "└── 0.5M"
         ],
         "textposition": "top center",
         "type": "scatter",
         "x": [
          22
         ],
         "y": [
          0
         ]
        },
        {
         "marker": {
          "color": "LightSkyBlue",
          "size": 20
         },
         "mode": "markers+text",
         "text": [
          "0.2V-1.7V"
         ],
         "textposition": "top center",
         "type": "scatter",
         "x": [
          17
         ],
         "y": [
          0
         ]
        },
        {
         "marker": {
          "color": "LightSkyBlue",
          "size": 20
         },
         "mode": "markers+text",
         "text": [
          "0.1M"
         ],
         "textposition": "top center",
         "type": "scatter",
         "x": [
          21
         ],
         "y": [
          0
         ]
        },
        {
         "marker": {
          "color": "LightSkyBlue",
          "size": 20
         },
         "mode": "markers+text",
         "text": [
          "└── 0.5M"
         ],
         "textposition": "top center",
         "type": "scatter",
         "x": [
          22
         ],
         "y": [
          0
         ]
        },
        {
         "marker": {
          "color": "LightSkyBlue",
          "size": 20
         },
         "mode": "markers+text",
         "text": [
          "└── 0.4V-1.9V"
         ],
         "textposition": "top center",
         "type": "scatter",
         "x": [
          20
         ],
         "y": [
          0
         ]
        },
        {
         "marker": {
          "color": "LightSkyBlue",
          "size": 20
         },
         "mode": "markers+text",
         "text": [
          "0.1M"
         ],
         "textposition": "top center",
         "type": "scatter",
         "x": [
          21
         ],
         "y": [
          0
         ]
        },
        {
         "marker": {
          "color": "LightSkyBlue",
          "size": 20
         },
         "mode": "markers+text",
         "text": [
          "└── 0.5M"
         ],
         "textposition": "top center",
         "type": "scatter",
         "x": [
          22
         ],
         "y": [
          0
         ]
        },
        {
         "line": {
          "color": "gray",
          "width": 2
         },
         "mode": "lines",
         "type": "scatter",
         "x": [
          0,
          1
         ],
         "y": [
          0,
          0
         ]
        },
        {
         "line": {
          "color": "gray",
          "width": 2
         },
         "mode": "lines",
         "type": "scatter",
         "x": [
          3,
          4
         ],
         "y": [
          0,
          0
         ]
        },
        {
         "line": {
          "color": "gray",
          "width": 2
         },
         "mode": "lines",
         "type": "scatter",
         "x": [
          4,
          5
         ],
         "y": [
          0,
          0
         ]
        },
        {
         "line": {
          "color": "gray",
          "width": 2
         },
         "mode": "lines",
         "type": "scatter",
         "x": [
          10,
          11
         ],
         "y": [
          0,
          0
         ]
        },
        {
         "line": {
          "color": "gray",
          "width": 2
         },
         "mode": "lines",
         "type": "scatter",
         "x": [
          13,
          14
         ],
         "y": [
          0,
          0
         ]
        },
        {
         "line": {
          "color": "gray",
          "width": 2
         },
         "mode": "lines",
         "type": "scatter",
         "x": [
          14,
          21
         ],
         "y": [
          0,
          0
         ]
        },
        {
         "line": {
          "color": "gray",
          "width": 2
         },
         "mode": "lines",
         "type": "scatter",
         "x": [
          17,
          21
         ],
         "y": [
          0,
          0
         ]
        },
        {
         "line": {
          "color": "gray",
          "width": 2
         },
         "mode": "lines",
         "type": "scatter",
         "x": [
          20,
          21
         ],
         "y": [
          0,
          0
         ]
        }
       ],
       "layout": {
        "showlegend": false,
        "template": {
         "data": {
          "bar": [
           {
            "error_x": {
             "color": "#2a3f5f"
            },
            "error_y": {
             "color": "#2a3f5f"
            },
            "marker": {
             "line": {
              "color": "#E5ECF6",
              "width": 0.5
             },
             "pattern": {
              "fillmode": "overlay",
              "size": 10,
              "solidity": 0.2
             }
            },
            "type": "bar"
           }
          ],
          "barpolar": [
           {
            "marker": {
             "line": {
              "color": "#E5ECF6",
              "width": 0.5
             },
             "pattern": {
              "fillmode": "overlay",
              "size": 10,
              "solidity": 0.2
             }
            },
            "type": "barpolar"
           }
          ],
          "carpet": [
           {
            "aaxis": {
             "endlinecolor": "#2a3f5f",
             "gridcolor": "white",
             "linecolor": "white",
             "minorgridcolor": "white",
             "startlinecolor": "#2a3f5f"
            },
            "baxis": {
             "endlinecolor": "#2a3f5f",
             "gridcolor": "white",
             "linecolor": "white",
             "minorgridcolor": "white",
             "startlinecolor": "#2a3f5f"
            },
            "type": "carpet"
           }
          ],
          "choropleth": [
           {
            "colorbar": {
             "outlinewidth": 0,
             "ticks": ""
            },
            "type": "choropleth"
           }
          ],
          "contour": [
           {
            "colorbar": {
             "outlinewidth": 0,
             "ticks": ""
            },
            "colorscale": [
             [
              0,
              "#0d0887"
             ],
             [
              0.1111111111111111,
              "#46039f"
             ],
             [
              0.2222222222222222,
              "#7201a8"
             ],
             [
              0.3333333333333333,
              "#9c179e"
             ],
             [
              0.4444444444444444,
              "#bd3786"
             ],
             [
              0.5555555555555556,
              "#d8576b"
             ],
             [
              0.6666666666666666,
              "#ed7953"
             ],
             [
              0.7777777777777778,
              "#fb9f3a"
             ],
             [
              0.8888888888888888,
              "#fdca26"
             ],
             [
              1,
              "#f0f921"
             ]
            ],
            "type": "contour"
           }
          ],
          "contourcarpet": [
           {
            "colorbar": {
             "outlinewidth": 0,
             "ticks": ""
            },
            "type": "contourcarpet"
           }
          ],
          "heatmap": [
           {
            "colorbar": {
             "outlinewidth": 0,
             "ticks": ""
            },
            "colorscale": [
             [
              0,
              "#0d0887"
             ],
             [
              0.1111111111111111,
              "#46039f"
             ],
             [
              0.2222222222222222,
              "#7201a8"
             ],
             [
              0.3333333333333333,
              "#9c179e"
             ],
             [
              0.4444444444444444,
              "#bd3786"
             ],
             [
              0.5555555555555556,
              "#d8576b"
             ],
             [
              0.6666666666666666,
              "#ed7953"
             ],
             [
              0.7777777777777778,
              "#fb9f3a"
             ],
             [
              0.8888888888888888,
              "#fdca26"
             ],
             [
              1,
              "#f0f921"
             ]
            ],
            "type": "heatmap"
           }
          ],
          "heatmapgl": [
           {
            "colorbar": {
             "outlinewidth": 0,
             "ticks": ""
            },
            "colorscale": [
             [
              0,
              "#0d0887"
             ],
             [
              0.1111111111111111,
              "#46039f"
             ],
             [
              0.2222222222222222,
              "#7201a8"
             ],
             [
              0.3333333333333333,
              "#9c179e"
             ],
             [
              0.4444444444444444,
              "#bd3786"
             ],
             [
              0.5555555555555556,
              "#d8576b"
             ],
             [
              0.6666666666666666,
              "#ed7953"
             ],
             [
              0.7777777777777778,
              "#fb9f3a"
             ],
             [
              0.8888888888888888,
              "#fdca26"
             ],
             [
              1,
              "#f0f921"
             ]
            ],
            "type": "heatmapgl"
           }
          ],
          "histogram": [
           {
            "marker": {
             "pattern": {
              "fillmode": "overlay",
              "size": 10,
              "solidity": 0.2
             }
            },
            "type": "histogram"
           }
          ],
          "histogram2d": [
           {
            "colorbar": {
             "outlinewidth": 0,
             "ticks": ""
            },
            "colorscale": [
             [
              0,
              "#0d0887"
             ],
             [
              0.1111111111111111,
              "#46039f"
             ],
             [
              0.2222222222222222,
              "#7201a8"
             ],
             [
              0.3333333333333333,
              "#9c179e"
             ],
             [
              0.4444444444444444,
              "#bd3786"
             ],
             [
              0.5555555555555556,
              "#d8576b"
             ],
             [
              0.6666666666666666,
              "#ed7953"
             ],
             [
              0.7777777777777778,
              "#fb9f3a"
             ],
             [
              0.8888888888888888,
              "#fdca26"
             ],
             [
              1,
              "#f0f921"
             ]
            ],
            "type": "histogram2d"
           }
          ],
          "histogram2dcontour": [
           {
            "colorbar": {
             "outlinewidth": 0,
             "ticks": ""
            },
            "colorscale": [
             [
              0,
              "#0d0887"
             ],
             [
              0.1111111111111111,
              "#46039f"
             ],
             [
              0.2222222222222222,
              "#7201a8"
             ],
             [
              0.3333333333333333,
              "#9c179e"
             ],
             [
              0.4444444444444444,
              "#bd3786"
             ],
             [
              0.5555555555555556,
              "#d8576b"
             ],
             [
              0.6666666666666666,
              "#ed7953"
             ],
             [
              0.7777777777777778,
              "#fb9f3a"
             ],
             [
              0.8888888888888888,
              "#fdca26"
             ],
             [
              1,
              "#f0f921"
             ]
            ],
            "type": "histogram2dcontour"
           }
          ],
          "mesh3d": [
           {
            "colorbar": {
             "outlinewidth": 0,
             "ticks": ""
            },
            "type": "mesh3d"
           }
          ],
          "parcoords": [
           {
            "line": {
             "colorbar": {
              "outlinewidth": 0,
              "ticks": ""
             }
            },
            "type": "parcoords"
           }
          ],
          "pie": [
           {
            "automargin": true,
            "type": "pie"
           }
          ],
          "scatter": [
           {
            "fillpattern": {
             "fillmode": "overlay",
             "size": 10,
             "solidity": 0.2
            },
            "type": "scatter"
           }
          ],
          "scatter3d": [
           {
            "line": {
             "colorbar": {
              "outlinewidth": 0,
              "ticks": ""
             }
            },
            "marker": {
             "colorbar": {
              "outlinewidth": 0,
              "ticks": ""
             }
            },
            "type": "scatter3d"
           }
          ],
          "scattercarpet": [
           {
            "marker": {
             "colorbar": {
              "outlinewidth": 0,
              "ticks": ""
             }
            },
            "type": "scattercarpet"
           }
          ],
          "scattergeo": [
           {
            "marker": {
             "colorbar": {
              "outlinewidth": 0,
              "ticks": ""
             }
            },
            "type": "scattergeo"
           }
          ],
          "scattergl": [
           {
            "marker": {
             "colorbar": {
              "outlinewidth": 0,
              "ticks": ""
             }
            },
            "type": "scattergl"
           }
          ],
          "scattermapbox": [
           {
            "marker": {
             "colorbar": {
              "outlinewidth": 0,
              "ticks": ""
             }
            },
            "type": "scattermapbox"
           }
          ],
          "scatterpolar": [
           {
            "marker": {
             "colorbar": {
              "outlinewidth": 0,
              "ticks": ""
             }
            },
            "type": "scatterpolar"
           }
          ],
          "scatterpolargl": [
           {
            "marker": {
             "colorbar": {
              "outlinewidth": 0,
              "ticks": ""
             }
            },
            "type": "scatterpolargl"
           }
          ],
          "scatterternary": [
           {
            "marker": {
             "colorbar": {
              "outlinewidth": 0,
              "ticks": ""
             }
            },
            "type": "scatterternary"
           }
          ],
          "surface": [
           {
            "colorbar": {
             "outlinewidth": 0,
             "ticks": ""
            },
            "colorscale": [
             [
              0,
              "#0d0887"
             ],
             [
              0.1111111111111111,
              "#46039f"
             ],
             [
              0.2222222222222222,
              "#7201a8"
             ],
             [
              0.3333333333333333,
              "#9c179e"
             ],
             [
              0.4444444444444444,
              "#bd3786"
             ],
             [
              0.5555555555555556,
              "#d8576b"
             ],
             [
              0.6666666666666666,
              "#ed7953"
             ],
             [
              0.7777777777777778,
              "#fb9f3a"
             ],
             [
              0.8888888888888888,
              "#fdca26"
             ],
             [
              1,
              "#f0f921"
             ]
            ],
            "type": "surface"
           }
          ],
          "table": [
           {
            "cells": {
             "fill": {
              "color": "#EBF0F8"
             },
             "line": {
              "color": "white"
             }
            },
            "header": {
             "fill": {
              "color": "#C8D4E3"
             },
             "line": {
              "color": "white"
             }
            },
            "type": "table"
           }
          ]
         },
         "layout": {
          "annotationdefaults": {
           "arrowcolor": "#2a3f5f",
           "arrowhead": 0,
           "arrowwidth": 1
          },
          "autotypenumbers": "strict",
          "coloraxis": {
           "colorbar": {
            "outlinewidth": 0,
            "ticks": ""
           }
          },
          "colorscale": {
           "diverging": [
            [
             0,
             "#8e0152"
            ],
            [
             0.1,
             "#c51b7d"
            ],
            [
             0.2,
             "#de77ae"
            ],
            [
             0.3,
             "#f1b6da"
            ],
            [
             0.4,
             "#fde0ef"
            ],
            [
             0.5,
             "#f7f7f7"
            ],
            [
             0.6,
             "#e6f5d0"
            ],
            [
             0.7,
             "#b8e186"
            ],
            [
             0.8,
             "#7fbc41"
            ],
            [
             0.9,
             "#4d9221"
            ],
            [
             1,
             "#276419"
            ]
           ],
           "sequential": [
            [
             0,
             "#0d0887"
            ],
            [
             0.1111111111111111,
             "#46039f"
            ],
            [
             0.2222222222222222,
             "#7201a8"
            ],
            [
             0.3333333333333333,
             "#9c179e"
            ],
            [
             0.4444444444444444,
             "#bd3786"
            ],
            [
             0.5555555555555556,
             "#d8576b"
            ],
            [
             0.6666666666666666,
             "#ed7953"
            ],
            [
             0.7777777777777778,
             "#fb9f3a"
            ],
            [
             0.8888888888888888,
             "#fdca26"
            ],
            [
             1,
             "#f0f921"
            ]
           ],
           "sequentialminus": [
            [
             0,
             "#0d0887"
            ],
            [
             0.1111111111111111,
             "#46039f"
            ],
            [
             0.2222222222222222,
             "#7201a8"
            ],
            [
             0.3333333333333333,
             "#9c179e"
            ],
            [
             0.4444444444444444,
             "#bd3786"
            ],
            [
             0.5555555555555556,
             "#d8576b"
            ],
            [
             0.6666666666666666,
             "#ed7953"
            ],
            [
             0.7777777777777778,
             "#fb9f3a"
            ],
            [
             0.8888888888888888,
             "#fdca26"
            ],
            [
             1,
             "#f0f921"
            ]
           ]
          },
          "colorway": [
           "#636efa",
           "#EF553B",
           "#00cc96",
           "#ab63fa",
           "#FFA15A",
           "#19d3f3",
           "#FF6692",
           "#B6E880",
           "#FF97FF",
           "#FECB52"
          ],
          "font": {
           "color": "#2a3f5f"
          },
          "geo": {
           "bgcolor": "white",
           "lakecolor": "white",
           "landcolor": "#E5ECF6",
           "showlakes": true,
           "showland": true,
           "subunitcolor": "white"
          },
          "hoverlabel": {
           "align": "left"
          },
          "hovermode": "closest",
          "mapbox": {
           "style": "light"
          },
          "paper_bgcolor": "white",
          "plot_bgcolor": "#E5ECF6",
          "polar": {
           "angularaxis": {
            "gridcolor": "white",
            "linecolor": "white",
            "ticks": ""
           },
           "bgcolor": "#E5ECF6",
           "radialaxis": {
            "gridcolor": "white",
            "linecolor": "white",
            "ticks": ""
           }
          },
          "scene": {
           "xaxis": {
            "backgroundcolor": "#E5ECF6",
            "gridcolor": "white",
            "gridwidth": 2,
            "linecolor": "white",
            "showbackground": true,
            "ticks": "",
            "zerolinecolor": "white"
           },
           "yaxis": {
            "backgroundcolor": "#E5ECF6",
            "gridcolor": "white",
            "gridwidth": 2,
            "linecolor": "white",
            "showbackground": true,
            "ticks": "",
            "zerolinecolor": "white"
           },
           "zaxis": {
            "backgroundcolor": "#E5ECF6",
            "gridcolor": "white",
            "gridwidth": 2,
            "linecolor": "white",
            "showbackground": true,
            "ticks": "",
            "zerolinecolor": "white"
           }
          },
          "shapedefaults": {
           "line": {
            "color": "#2a3f5f"
           }
          },
          "ternary": {
           "aaxis": {
            "gridcolor": "white",
            "linecolor": "white",
            "ticks": ""
           },
           "baxis": {
            "gridcolor": "white",
            "linecolor": "white",
            "ticks": ""
           },
           "bgcolor": "#E5ECF6",
           "caxis": {
            "gridcolor": "white",
            "linecolor": "white",
            "ticks": ""
           }
          },
          "title": {
           "x": 0.05
          },
          "xaxis": {
           "automargin": true,
           "gridcolor": "white",
           "linecolor": "white",
           "ticks": "",
           "title": {
            "standoff": 15
           },
           "zerolinecolor": "white",
           "zerolinewidth": 2
          },
          "yaxis": {
           "automargin": true,
           "gridcolor": "white",
           "linecolor": "white",
           "ticks": "",
           "title": {
            "standoff": 15
           },
           "zerolinecolor": "white",
           "zerolinewidth": 2
          }
         }
        },
        "title": {
         "text": "Test Conditions Tree Diagram"
        },
        "xaxis": {
         "showticklabels": false
        },
        "yaxis": {
         "showticklabels": false
        }
       }
      },
      "text/html": [
       "<div>                            <div id=\"3cd5af9e-02ec-4682-ba6b-c99bf0b7f627\" class=\"plotly-graph-div\" style=\"height:525px; width:100%;\"></div>            <script type=\"text/javascript\">                require([\"plotly\"], function(Plotly) {                    window.PLOTLYENV=window.PLOTLYENV || {};                                    if (document.getElementById(\"3cd5af9e-02ec-4682-ba6b-c99bf0b7f627\")) {                    Plotly.newPlot(                        \"3cd5af9e-02ec-4682-ba6b-c99bf0b7f627\",                        [{\"marker\":{\"color\":\"LightSkyBlue\",\"size\":20},\"mode\":\"markers+text\",\"text\":[\"Test Conditions\"],\"textposition\":\"top center\",\"x\":[0],\"y\":[0],\"type\":\"scatter\"},{\"marker\":{\"color\":\"LightSkyBlue\",\"size\":20},\"mode\":\"markers+text\",\"text\":[\"CTI Electrodes\"],\"textposition\":\"top center\",\"x\":[1],\"y\":[0],\"type\":\"scatter\"},{\"marker\":{\"color\":\"LightSkyBlue\",\"size\":20},\"mode\":\"markers+text\",\"text\":[\"\\u2514\\u2500\\u2500 Cleaned using 0.1M H2SO4 at a scan range from 0V-1.5V at 0.1V\\u002fs\"],\"textposition\":\"top center\",\"x\":[2],\"y\":[0],\"type\":\"scatter\"},{\"marker\":{\"color\":\"LightSkyBlue\",\"size\":20},\"mode\":\"markers+text\",\"text\":[\"\\u2514\\u2500\\u2500 PCB Electrodes\"],\"textposition\":\"top center\",\"x\":[3],\"y\":[0],\"type\":\"scatter\"},{\"marker\":{\"color\":\"LightSkyBlue\",\"size\":20},\"mode\":\"markers+text\",\"text\":[\"Cleaning Methods\"],\"textposition\":\"top center\",\"x\":[4],\"y\":[0],\"type\":\"scatter\"},{\"marker\":{\"color\":\"LightSkyBlue\",\"size\":20},\"mode\":\"markers+text\",\"text\":[\"Solvent Cleaned\"],\"textposition\":\"top center\",\"x\":[5],\"y\":[0],\"type\":\"scatter\"},{\"marker\":{\"color\":\"LightSkyBlue\",\"size\":20},\"mode\":\"markers+text\",\"text\":[\"\\u2514\\u2500\\u2500 H2O2:NH4OH:H2O at a 1:1:2 ratio for 30 mins, then 1:1 ratio for 30 mins\"],\"textposition\":\"top center\",\"x\":[6],\"y\":[0],\"type\":\"scatter\"},{\"marker\":{\"color\":\"LightSkyBlue\",\"size\":20},\"mode\":\"markers+text\",\"text\":[\"Mechanically Cleaned\"],\"textposition\":\"top center\",\"x\":[7],\"y\":[0],\"type\":\"scatter\"},{\"marker\":{\"color\":\"LightSkyBlue\",\"size\":20},\"mode\":\"markers+text\",\"text\":[\"\\u2514\\u2500\\u2500 Using alumina slurry for 5 mins\"],\"textposition\":\"top center\",\"x\":[8],\"y\":[0],\"type\":\"scatter\"},{\"marker\":{\"color\":\"LightSkyBlue\",\"size\":20},\"mode\":\"markers+text\",\"text\":[\"\\u2514\\u2500\\u2500 Mechanical + Solvent Cleaned\"],\"textposition\":\"top center\",\"x\":[9],\"y\":[0],\"type\":\"scatter\"},{\"marker\":{\"color\":\"LightSkyBlue\",\"size\":20},\"mode\":\"markers+text\",\"text\":[\"Slow Scans\"],\"textposition\":\"top center\",\"x\":[10],\"y\":[0],\"type\":\"scatter\"},{\"marker\":{\"color\":\"LightSkyBlue\",\"size\":20},\"mode\":\"markers+text\",\"text\":[\"0V-1.5V at 0.1M\"],\"textposition\":\"top center\",\"x\":[11],\"y\":[0],\"type\":\"scatter\"},{\"marker\":{\"color\":\"LightSkyBlue\",\"size\":20},\"mode\":\"markers+text\",\"text\":[\"\\u2514\\u2500\\u2500 0V-1.5V at 0.5M\"],\"textposition\":\"top center\",\"x\":[12],\"y\":[0],\"type\":\"scatter\"},{\"marker\":{\"color\":\"LightSkyBlue\",\"size\":20},\"mode\":\"markers+text\",\"text\":[\"\\u2514\\u2500\\u2500 Fast Scans\"],\"textposition\":\"top center\",\"x\":[13],\"y\":[0],\"type\":\"scatter\"},{\"marker\":{\"color\":\"LightSkyBlue\",\"size\":20},\"mode\":\"markers+text\",\"text\":[\"0V-1.5V\"],\"textposition\":\"top center\",\"x\":[14],\"y\":[0],\"type\":\"scatter\"},{\"marker\":{\"color\":\"LightSkyBlue\",\"size\":20},\"mode\":\"markers+text\",\"text\":[\"0.1M\"],\"textposition\":\"top center\",\"x\":[21],\"y\":[0],\"type\":\"scatter\"},{\"marker\":{\"color\":\"LightSkyBlue\",\"size\":20},\"mode\":\"markers+text\",\"text\":[\"\\u2514\\u2500\\u2500 0.5M\"],\"textposition\":\"top center\",\"x\":[22],\"y\":[0],\"type\":\"scatter\"},{\"marker\":{\"color\":\"LightSkyBlue\",\"size\":20},\"mode\":\"markers+text\",\"text\":[\"0.2V-1.7V\"],\"textposition\":\"top center\",\"x\":[17],\"y\":[0],\"type\":\"scatter\"},{\"marker\":{\"color\":\"LightSkyBlue\",\"size\":20},\"mode\":\"markers+text\",\"text\":[\"0.1M\"],\"textposition\":\"top center\",\"x\":[21],\"y\":[0],\"type\":\"scatter\"},{\"marker\":{\"color\":\"LightSkyBlue\",\"size\":20},\"mode\":\"markers+text\",\"text\":[\"\\u2514\\u2500\\u2500 0.5M\"],\"textposition\":\"top center\",\"x\":[22],\"y\":[0],\"type\":\"scatter\"},{\"marker\":{\"color\":\"LightSkyBlue\",\"size\":20},\"mode\":\"markers+text\",\"text\":[\"\\u2514\\u2500\\u2500 0.4V-1.9V\"],\"textposition\":\"top center\",\"x\":[20],\"y\":[0],\"type\":\"scatter\"},{\"marker\":{\"color\":\"LightSkyBlue\",\"size\":20},\"mode\":\"markers+text\",\"text\":[\"0.1M\"],\"textposition\":\"top center\",\"x\":[21],\"y\":[0],\"type\":\"scatter\"},{\"marker\":{\"color\":\"LightSkyBlue\",\"size\":20},\"mode\":\"markers+text\",\"text\":[\"\\u2514\\u2500\\u2500 0.5M\"],\"textposition\":\"top center\",\"x\":[22],\"y\":[0],\"type\":\"scatter\"},{\"line\":{\"color\":\"gray\",\"width\":2},\"mode\":\"lines\",\"x\":[0,1],\"y\":[0,0],\"type\":\"scatter\"},{\"line\":{\"color\":\"gray\",\"width\":2},\"mode\":\"lines\",\"x\":[3,4],\"y\":[0,0],\"type\":\"scatter\"},{\"line\":{\"color\":\"gray\",\"width\":2},\"mode\":\"lines\",\"x\":[4,5],\"y\":[0,0],\"type\":\"scatter\"},{\"line\":{\"color\":\"gray\",\"width\":2},\"mode\":\"lines\",\"x\":[10,11],\"y\":[0,0],\"type\":\"scatter\"},{\"line\":{\"color\":\"gray\",\"width\":2},\"mode\":\"lines\",\"x\":[13,14],\"y\":[0,0],\"type\":\"scatter\"},{\"line\":{\"color\":\"gray\",\"width\":2},\"mode\":\"lines\",\"x\":[14,21],\"y\":[0,0],\"type\":\"scatter\"},{\"line\":{\"color\":\"gray\",\"width\":2},\"mode\":\"lines\",\"x\":[17,21],\"y\":[0,0],\"type\":\"scatter\"},{\"line\":{\"color\":\"gray\",\"width\":2},\"mode\":\"lines\",\"x\":[20,21],\"y\":[0,0],\"type\":\"scatter\"}],                        {\"template\":{\"data\":{\"histogram2dcontour\":[{\"type\":\"histogram2dcontour\",\"colorbar\":{\"outlinewidth\":0,\"ticks\":\"\"},\"colorscale\":[[0.0,\"#0d0887\"],[0.1111111111111111,\"#46039f\"],[0.2222222222222222,\"#7201a8\"],[0.3333333333333333,\"#9c179e\"],[0.4444444444444444,\"#bd3786\"],[0.5555555555555556,\"#d8576b\"],[0.6666666666666666,\"#ed7953\"],[0.7777777777777778,\"#fb9f3a\"],[0.8888888888888888,\"#fdca26\"],[1.0,\"#f0f921\"]]}],\"choropleth\":[{\"type\":\"choropleth\",\"colorbar\":{\"outlinewidth\":0,\"ticks\":\"\"}}],\"histogram2d\":[{\"type\":\"histogram2d\",\"colorbar\":{\"outlinewidth\":0,\"ticks\":\"\"},\"colorscale\":[[0.0,\"#0d0887\"],[0.1111111111111111,\"#46039f\"],[0.2222222222222222,\"#7201a8\"],[0.3333333333333333,\"#9c179e\"],[0.4444444444444444,\"#bd3786\"],[0.5555555555555556,\"#d8576b\"],[0.6666666666666666,\"#ed7953\"],[0.7777777777777778,\"#fb9f3a\"],[0.8888888888888888,\"#fdca26\"],[1.0,\"#f0f921\"]]}],\"heatmap\":[{\"type\":\"heatmap\",\"colorbar\":{\"outlinewidth\":0,\"ticks\":\"\"},\"colorscale\":[[0.0,\"#0d0887\"],[0.1111111111111111,\"#46039f\"],[0.2222222222222222,\"#7201a8\"],[0.3333333333333333,\"#9c179e\"],[0.4444444444444444,\"#bd3786\"],[0.5555555555555556,\"#d8576b\"],[0.6666666666666666,\"#ed7953\"],[0.7777777777777778,\"#fb9f3a\"],[0.8888888888888888,\"#fdca26\"],[1.0,\"#f0f921\"]]}],\"heatmapgl\":[{\"type\":\"heatmapgl\",\"colorbar\":{\"outlinewidth\":0,\"ticks\":\"\"},\"colorscale\":[[0.0,\"#0d0887\"],[0.1111111111111111,\"#46039f\"],[0.2222222222222222,\"#7201a8\"],[0.3333333333333333,\"#9c179e\"],[0.4444444444444444,\"#bd3786\"],[0.5555555555555556,\"#d8576b\"],[0.6666666666666666,\"#ed7953\"],[0.7777777777777778,\"#fb9f3a\"],[0.8888888888888888,\"#fdca26\"],[1.0,\"#f0f921\"]]}],\"contourcarpet\":[{\"type\":\"contourcarpet\",\"colorbar\":{\"outlinewidth\":0,\"ticks\":\"\"}}],\"contour\":[{\"type\":\"contour\",\"colorbar\":{\"outlinewidth\":0,\"ticks\":\"\"},\"colorscale\":[[0.0,\"#0d0887\"],[0.1111111111111111,\"#46039f\"],[0.2222222222222222,\"#7201a8\"],[0.3333333333333333,\"#9c179e\"],[0.4444444444444444,\"#bd3786\"],[0.5555555555555556,\"#d8576b\"],[0.6666666666666666,\"#ed7953\"],[0.7777777777777778,\"#fb9f3a\"],[0.8888888888888888,\"#fdca26\"],[1.0,\"#f0f921\"]]}],\"surface\":[{\"type\":\"surface\",\"colorbar\":{\"outlinewidth\":0,\"ticks\":\"\"},\"colorscale\":[[0.0,\"#0d0887\"],[0.1111111111111111,\"#46039f\"],[0.2222222222222222,\"#7201a8\"],[0.3333333333333333,\"#9c179e\"],[0.4444444444444444,\"#bd3786\"],[0.5555555555555556,\"#d8576b\"],[0.6666666666666666,\"#ed7953\"],[0.7777777777777778,\"#fb9f3a\"],[0.8888888888888888,\"#fdca26\"],[1.0,\"#f0f921\"]]}],\"mesh3d\":[{\"type\":\"mesh3d\",\"colorbar\":{\"outlinewidth\":0,\"ticks\":\"\"}}],\"scatter\":[{\"fillpattern\":{\"fillmode\":\"overlay\",\"size\":10,\"solidity\":0.2},\"type\":\"scatter\"}],\"parcoords\":[{\"type\":\"parcoords\",\"line\":{\"colorbar\":{\"outlinewidth\":0,\"ticks\":\"\"}}}],\"scatterpolargl\":[{\"type\":\"scatterpolargl\",\"marker\":{\"colorbar\":{\"outlinewidth\":0,\"ticks\":\"\"}}}],\"bar\":[{\"error_x\":{\"color\":\"#2a3f5f\"},\"error_y\":{\"color\":\"#2a3f5f\"},\"marker\":{\"line\":{\"color\":\"#E5ECF6\",\"width\":0.5},\"pattern\":{\"fillmode\":\"overlay\",\"size\":10,\"solidity\":0.2}},\"type\":\"bar\"}],\"scattergeo\":[{\"type\":\"scattergeo\",\"marker\":{\"colorbar\":{\"outlinewidth\":0,\"ticks\":\"\"}}}],\"scatterpolar\":[{\"type\":\"scatterpolar\",\"marker\":{\"colorbar\":{\"outlinewidth\":0,\"ticks\":\"\"}}}],\"histogram\":[{\"marker\":{\"pattern\":{\"fillmode\":\"overlay\",\"size\":10,\"solidity\":0.2}},\"type\":\"histogram\"}],\"scattergl\":[{\"type\":\"scattergl\",\"marker\":{\"colorbar\":{\"outlinewidth\":0,\"ticks\":\"\"}}}],\"scatter3d\":[{\"type\":\"scatter3d\",\"line\":{\"colorbar\":{\"outlinewidth\":0,\"ticks\":\"\"}},\"marker\":{\"colorbar\":{\"outlinewidth\":0,\"ticks\":\"\"}}}],\"scattermapbox\":[{\"type\":\"scattermapbox\",\"marker\":{\"colorbar\":{\"outlinewidth\":0,\"ticks\":\"\"}}}],\"scatterternary\":[{\"type\":\"scatterternary\",\"marker\":{\"colorbar\":{\"outlinewidth\":0,\"ticks\":\"\"}}}],\"scattercarpet\":[{\"type\":\"scattercarpet\",\"marker\":{\"colorbar\":{\"outlinewidth\":0,\"ticks\":\"\"}}}],\"carpet\":[{\"aaxis\":{\"endlinecolor\":\"#2a3f5f\",\"gridcolor\":\"white\",\"linecolor\":\"white\",\"minorgridcolor\":\"white\",\"startlinecolor\":\"#2a3f5f\"},\"baxis\":{\"endlinecolor\":\"#2a3f5f\",\"gridcolor\":\"white\",\"linecolor\":\"white\",\"minorgridcolor\":\"white\",\"startlinecolor\":\"#2a3f5f\"},\"type\":\"carpet\"}],\"table\":[{\"cells\":{\"fill\":{\"color\":\"#EBF0F8\"},\"line\":{\"color\":\"white\"}},\"header\":{\"fill\":{\"color\":\"#C8D4E3\"},\"line\":{\"color\":\"white\"}},\"type\":\"table\"}],\"barpolar\":[{\"marker\":{\"line\":{\"color\":\"#E5ECF6\",\"width\":0.5},\"pattern\":{\"fillmode\":\"overlay\",\"size\":10,\"solidity\":0.2}},\"type\":\"barpolar\"}],\"pie\":[{\"automargin\":true,\"type\":\"pie\"}]},\"layout\":{\"autotypenumbers\":\"strict\",\"colorway\":[\"#636efa\",\"#EF553B\",\"#00cc96\",\"#ab63fa\",\"#FFA15A\",\"#19d3f3\",\"#FF6692\",\"#B6E880\",\"#FF97FF\",\"#FECB52\"],\"font\":{\"color\":\"#2a3f5f\"},\"hovermode\":\"closest\",\"hoverlabel\":{\"align\":\"left\"},\"paper_bgcolor\":\"white\",\"plot_bgcolor\":\"#E5ECF6\",\"polar\":{\"bgcolor\":\"#E5ECF6\",\"angularaxis\":{\"gridcolor\":\"white\",\"linecolor\":\"white\",\"ticks\":\"\"},\"radialaxis\":{\"gridcolor\":\"white\",\"linecolor\":\"white\",\"ticks\":\"\"}},\"ternary\":{\"bgcolor\":\"#E5ECF6\",\"aaxis\":{\"gridcolor\":\"white\",\"linecolor\":\"white\",\"ticks\":\"\"},\"baxis\":{\"gridcolor\":\"white\",\"linecolor\":\"white\",\"ticks\":\"\"},\"caxis\":{\"gridcolor\":\"white\",\"linecolor\":\"white\",\"ticks\":\"\"}},\"coloraxis\":{\"colorbar\":{\"outlinewidth\":0,\"ticks\":\"\"}},\"colorscale\":{\"sequential\":[[0.0,\"#0d0887\"],[0.1111111111111111,\"#46039f\"],[0.2222222222222222,\"#7201a8\"],[0.3333333333333333,\"#9c179e\"],[0.4444444444444444,\"#bd3786\"],[0.5555555555555556,\"#d8576b\"],[0.6666666666666666,\"#ed7953\"],[0.7777777777777778,\"#fb9f3a\"],[0.8888888888888888,\"#fdca26\"],[1.0,\"#f0f921\"]],\"sequentialminus\":[[0.0,\"#0d0887\"],[0.1111111111111111,\"#46039f\"],[0.2222222222222222,\"#7201a8\"],[0.3333333333333333,\"#9c179e\"],[0.4444444444444444,\"#bd3786\"],[0.5555555555555556,\"#d8576b\"],[0.6666666666666666,\"#ed7953\"],[0.7777777777777778,\"#fb9f3a\"],[0.8888888888888888,\"#fdca26\"],[1.0,\"#f0f921\"]],\"diverging\":[[0,\"#8e0152\"],[0.1,\"#c51b7d\"],[0.2,\"#de77ae\"],[0.3,\"#f1b6da\"],[0.4,\"#fde0ef\"],[0.5,\"#f7f7f7\"],[0.6,\"#e6f5d0\"],[0.7,\"#b8e186\"],[0.8,\"#7fbc41\"],[0.9,\"#4d9221\"],[1,\"#276419\"]]},\"xaxis\":{\"gridcolor\":\"white\",\"linecolor\":\"white\",\"ticks\":\"\",\"title\":{\"standoff\":15},\"zerolinecolor\":\"white\",\"automargin\":true,\"zerolinewidth\":2},\"yaxis\":{\"gridcolor\":\"white\",\"linecolor\":\"white\",\"ticks\":\"\",\"title\":{\"standoff\":15},\"zerolinecolor\":\"white\",\"automargin\":true,\"zerolinewidth\":2},\"scene\":{\"xaxis\":{\"backgroundcolor\":\"#E5ECF6\",\"gridcolor\":\"white\",\"linecolor\":\"white\",\"showbackground\":true,\"ticks\":\"\",\"zerolinecolor\":\"white\",\"gridwidth\":2},\"yaxis\":{\"backgroundcolor\":\"#E5ECF6\",\"gridcolor\":\"white\",\"linecolor\":\"white\",\"showbackground\":true,\"ticks\":\"\",\"zerolinecolor\":\"white\",\"gridwidth\":2},\"zaxis\":{\"backgroundcolor\":\"#E5ECF6\",\"gridcolor\":\"white\",\"linecolor\":\"white\",\"showbackground\":true,\"ticks\":\"\",\"zerolinecolor\":\"white\",\"gridwidth\":2}},\"shapedefaults\":{\"line\":{\"color\":\"#2a3f5f\"}},\"annotationdefaults\":{\"arrowcolor\":\"#2a3f5f\",\"arrowhead\":0,\"arrowwidth\":1},\"geo\":{\"bgcolor\":\"white\",\"landcolor\":\"#E5ECF6\",\"subunitcolor\":\"white\",\"showland\":true,\"showlakes\":true,\"lakecolor\":\"white\"},\"title\":{\"x\":0.05},\"mapbox\":{\"style\":\"light\"}}},\"xaxis\":{\"showticklabels\":false},\"yaxis\":{\"showticklabels\":false},\"title\":{\"text\":\"Test Conditions Tree Diagram\"},\"showlegend\":false},                        {\"responsive\": true}                    ).then(function(){\n",
       "                            \n",
       "var gd = document.getElementById('3cd5af9e-02ec-4682-ba6b-c99bf0b7f627');\n",
       "var x = new MutationObserver(function (mutations, observer) {{\n",
       "        var display = window.getComputedStyle(gd).display;\n",
       "        if (!display || display === 'none') {{\n",
       "            console.log([gd, 'removed!']);\n",
       "            Plotly.purge(gd);\n",
       "            observer.disconnect();\n",
       "        }}\n",
       "}});\n",
       "\n",
       "// Listen for the removal of the full notebook cells\n",
       "var notebookContainer = gd.closest('#notebook-container');\n",
       "if (notebookContainer) {{\n",
       "    x.observe(notebookContainer, {childList: true});\n",
       "}}\n",
       "\n",
       "// Listen for the clearing of the current output cell\n",
       "var outputEl = gd.closest('.output');\n",
       "if (outputEl) {{\n",
       "    x.observe(outputEl, {childList: true});\n",
       "}}\n",
       "\n",
       "                        })                };                });            </script>        </div>"
      ]
     },
     "metadata": {},
     "output_type": "display_data"
    }
   ],
   "source": [
    "import plotly.graph_objects as go\n",
    "\n",
    "# Define the tree structure\n",
    "tree_text = \"\"\"\n",
    "Test Conditions\n",
    "├── CTI Electrodes\n",
    "│   └── Cleaned using 0.1M H2SO4 at a scan range from 0V-1.5V at 0.1V/s\n",
    "└── PCB Electrodes\n",
    "    ├── Cleaning Methods\n",
    "    │   ├── Solvent Cleaned\n",
    "    │   │   └── H2O2:NH4OH:H2O at a 1:1:2 ratio for 30 mins, then 1:1 ratio for 30 mins\n",
    "    │   ├── Mechanically Cleaned\n",
    "    │   │   └── Using alumina slurry for 5 mins\n",
    "    │   └── Mechanical + Solvent Cleaned\n",
    "    ├── Slow Scans\n",
    "    │   ├── 0V-1.5V at 0.1M\n",
    "    │   └── 0V-1.5V at 0.5M\n",
    "    └── Fast Scans\n",
    "        ├── 0V-1.5V\n",
    "        │   ├── 0.1M\n",
    "        │   └── 0.5M\n",
    "        ├── 0.2V-1.7V\n",
    "        │   ├── 0.1M\n",
    "        │   └── 0.5M\n",
    "        └── 0.4V-1.9V\n",
    "            ├── 0.1M\n",
    "            └── 0.5M\n",
    "\"\"\"\n",
    "\n",
    "# Function to parse the tree structure\n",
    "def parse_tree(text):\n",
    "    lines = [line.rstrip() for line in text.splitlines() if line.strip()]\n",
    "    nodes = []\n",
    "    edges = []\n",
    "\n",
    "    stack = []\n",
    "    prev_indent = 0\n",
    "    for line in lines:\n",
    "        indent = len(line) - len(line.lstrip(' ├──│'))\n",
    "        name = line.strip(' ├──│')\n",
    "\n",
    "        nodes.append(name)\n",
    "        if stack and indent > prev_indent:\n",
    "            edges.append((stack[-1], name))\n",
    "        while stack and indent < prev_indent:\n",
    "            stack.pop()\n",
    "            prev_indent -= 4\n",
    "        if stack and indent == prev_indent:\n",
    "            stack.pop()\n",
    "\n",
    "        stack.append(name)\n",
    "        prev_indent = indent\n",
    "\n",
    "    return nodes, edges\n",
    "\n",
    "nodes, edges = parse_tree(tree_text)\n",
    "\n",
    "# Create the node positions (x, y coordinates)\n",
    "def get_positions(nodes, edges):\n",
    "    levels = {}\n",
    "    positions = {}\n",
    "    level = 0\n",
    "\n",
    "    for node in nodes:\n",
    "        positions[node] = (len(levels.get(level, [])), level)\n",
    "        levels.setdefault(level, []).append(node)\n",
    "        level += 1\n",
    "\n",
    "        for edge in edges:\n",
    "            if edge[0] == node:\n",
    "                positions[edge[1]] = (len(levels.get(level, [])), level)\n",
    "                levels.setdefault(level, []).append(edge[1])\n",
    "\n",
    "        level -= 1\n",
    "\n",
    "    return positions\n",
    "\n",
    "node_positions = get_positions(nodes, edges)\n",
    "\n",
    "# Create the figure\n",
    "fig = go.Figure()\n",
    "\n",
    "# Add nodes\n",
    "for node in nodes:\n",
    "    x, y = node_positions[node]\n",
    "    fig.add_trace(go.Scatter(\n",
    "        x=[x], y=[y],\n",
    "        mode='markers+text',\n",
    "        marker=dict(size=20, color='LightSkyBlue'),\n",
    "        text=[node],\n",
    "        textposition=\"top center\"\n",
    "    ))\n",
    "\n",
    "# Add edges\n",
    "for edge in edges:\n",
    "    x0, y0 = node_positions[edge[0]]\n",
    "    x1, y1 = node_positions[edge[1]]\n",
    "    fig.add_trace(go.Scatter(\n",
    "        x=[x0, x1], y=[y0, y1],\n",
    "        mode='lines',\n",
    "        line=dict(width=2, color='gray')\n",
    "    ))\n",
    "\n",
    "# Update layout\n",
    "fig.update_layout(\n",
    "    title=\"Test Conditions Tree Diagram\",\n",
    "    showlegend=False,\n",
    "    xaxis=dict(showticklabels=False),\n",
    "    yaxis=dict(showticklabels=False)\n",
    ")\n",
    "\n",
    "# Show the plot\n",
    "fig.show()\n"
   ]
  },
  {
   "cell_type": "code",
   "execution_count": null,
   "id": "094ea44f-b48a-4977-9f6b-16e971bc7fdb",
   "metadata": {},
   "outputs": [],
   "source": []
  }
 ],
 "metadata": {
  "kernelspec": {
   "display_name": "Python 3 (ipykernel)",
   "language": "python",
   "name": "python3"
  },
  "language_info": {
   "codemirror_mode": {
    "name": "ipython",
    "version": 3
   },
   "file_extension": ".py",
   "mimetype": "text/x-python",
   "name": "python",
   "nbconvert_exporter": "python",
   "pygments_lexer": "ipython3",
   "version": "3.12.0"
  }
 },
 "nbformat": 4,
 "nbformat_minor": 5
}
